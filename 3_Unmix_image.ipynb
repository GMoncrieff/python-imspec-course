{
 "cells": [
  {
   "cell_type": "markdown",
   "id": "96491b41-6987-433d-9d32-2e4b5b9fdeb2",
   "metadata": {},
   "source": [
    "# Predicting on images"
   ]
  },
  {
   "cell_type": "markdown",
   "id": "ab8975f9-60bc-4677-9bff-8f4fe6b0b877",
   "metadata": {
    "tags": []
   },
   "source": [
    "## setup access"
   ]
  },
  {
   "cell_type": "markdown",
   "id": "fa6a20b9-7204-42f5-973c-773cdd341a02",
   "metadata": {},
   "source": [
    "## Authenticate with NASA Earthdata portal\n",
    "\n",
    "The new way"
   ]
  },
  {
   "cell_type": "code",
   "execution_count": null,
   "id": "b67ad3b3-9625-4d9c-996a-83e327d466d8",
   "metadata": {
    "tags": []
   },
   "outputs": [],
   "source": [
    "import earthaccess\n",
    "auth = earthaccess.login(persist=True)"
   ]
  },
  {
   "cell_type": "markdown",
   "id": "6081eed7-d1ca-4120-a230-e25f8b9523ae",
   "metadata": {
    "tags": []
   },
   "source": [
    "The old way"
   ]
  },
  {
   "cell_type": "code",
   "execution_count": null,
   "id": "2775cd14-8d25-414b-a760-59251c9a926c",
   "metadata": {
    "tags": []
   },
   "outputs": [],
   "source": [
    "#from utils.s3_access import write_creds\n",
    "#write_creds()"
   ]
  },
  {
   "cell_type": "code",
   "execution_count": null,
   "id": "0470ba92-6322-40b7-a40e-b62e61193c7d",
   "metadata": {
    "tags": []
   },
   "outputs": [],
   "source": [
    "from utils.s3_access import get_temp_creds\n",
    "temp_creds_req = get_temp_creds()"
   ]
  },
  {
   "cell_type": "markdown",
   "id": "a27f5af4-147b-420f-b8b1-c73e48f31f04",
   "metadata": {
    "tags": []
   },
   "source": [
    "## Select the data we want"
   ]
  },
  {
   "cell_type": "code",
   "execution_count": null,
   "id": "f935d6eb-8a57-4fb5-ad61-a261f1b603ed",
   "metadata": {
    "tags": []
   },
   "outputs": [],
   "source": [
    "#imports\n",
    "%load_ext autoreload\n",
    "%autoreload 2\n",
    "import s3fs\n",
    "import xarray as xr\n",
    "import rioxarray as riox\n",
    "import hvplot.xarray\n",
    "import holoviews as hv\n",
    "import pandas as pd\n",
    "import numpy as np\n",
    "import matplotlib.pyplot as plt\n",
    "import os\n",
    "import json\n",
    "from einops import rearrange\n",
    "\n",
    "from xgboost import XGBRegressor\n",
    "\n",
    "#our modules\n",
    "from utils.emit_tools import emit_xarray, quality_mask, ortho_xr\n"
   ]
  },
  {
   "cell_type": "code",
   "execution_count": null,
   "id": "d69c1d19-7d39-4e76-8e22-c3d9dd2648b8",
   "metadata": {},
   "outputs": [],
   "source": [
    "from dask.distributed import Client, LocalCluster, progress\n",
    "\n",
    "cluster = LocalCluster(n_workers=4)\n",
    "client = Client(cluster)"
   ]
  },
  {
   "cell_type": "code",
   "execution_count": null,
   "id": "39def688-4ddc-46b2-8931-c66b7cac99ff",
   "metadata": {
    "tags": []
   },
   "outputs": [],
   "source": [
    "# Pass Authentication to s3fs\n",
    "fs_s3 = s3fs.S3FileSystem(anon=False, \n",
    "                          key=temp_creds_req['accessKeyId'], \n",
    "                          secret=temp_creds_req['secretAccessKey'], \n",
    "                          token=temp_creds_req['sessionToken'])"
   ]
  },
  {
   "cell_type": "code",
   "execution_count": null,
   "id": "a4d37de6-651b-410b-be64-e7d814de85cc",
   "metadata": {
    "tags": []
   },
   "outputs": [],
   "source": [
    "f_url = ['s3://lp-prod-protected/EMITL2ARFL.001/EMIT_L2A_RFL_001_20230119T114247_2301907_005/EMIT_L2A_RFL_001_20230119T114247_2301907_005.nc',\n",
    "         's3://lp-prod-protected/EMITL2ARFL.001/EMIT_L2A_RFL_001_20230123T100615_2302306_006/EMIT_L2A_RFL_001_20230123T100615_2302306_006.nc']\n",
    "f_mask_url = ['s3://lp-prod-protected/EMITL2ARFL.001/EMIT_L2A_RFL_001_20230119T114247_2301907_005/EMIT_L2A_MASK_001_20230119T114247_2301907_005.nc',\n",
    "            's3://lp-prod-protected/EMITL2ARFL.001/EMIT_L2A_RFL_001_20230123T100615_2302306_006/EMIT_L2A_MASK_001_20230123T100615_2302306_006.nc']"
   ]
  },
  {
   "cell_type": "markdown",
   "id": "b173871a-47ab-4de0-9867-3f21ec196eff",
   "metadata": {
    "tags": []
   },
   "source": [
    "## open datset"
   ]
  },
  {
   "cell_type": "code",
   "execution_count": null,
   "id": "b50c3cfc-d852-4d3b-9f39-ef9473f4a9c2",
   "metadata": {
    "tags": []
   },
   "outputs": [],
   "source": [
    "# Open s3 url\n",
    "fp = fs_s3.open(f_url[0], mode='rb')\n",
    "fp_mask = fs_s3.open(f_mask_url[0], mode='rb')"
   ]
  },
  {
   "cell_type": "code",
   "execution_count": null,
   "id": "47547d38-ab01-4e6b-aad1-7f6eca3a890f",
   "metadata": {
    "tags": []
   },
   "outputs": [],
   "source": [
    "flags=[7]\n",
    "mask = quality_mask(fp_mask,flags)"
   ]
  },
  {
   "cell_type": "code",
   "execution_count": null,
   "id": "30b2b33b-ac96-4fb1-93a3-d20ac0a93905",
   "metadata": {
    "tags": []
   },
   "outputs": [],
   "source": [
    "ds = emit_xarray(fp, \n",
    "                 ortho=False,\n",
    "                 chunk={'downtrack':100,'crosstrack':100,'wavelengths':-1})\n",
    "ds = ds.where(ds.good_wavelengths.compute()==1,drop=True)\n",
    "ds"
   ]
  },
  {
   "cell_type": "code",
   "execution_count": null,
   "id": "afb4cffe-abd8-42aa-8ade-5dbcafa20402",
   "metadata": {},
   "outputs": [],
   "source": [
    "#quick plot\n",
    "(ds\n",
    " .isel(downtrack=slice(800, 1000),crosstrack=slice(800, 1000))\n",
    " .sel(wavelengths=650, method='nearest')\n",
    " .hvplot.image(cmap='viridis', aspect = 'equal', frame_width=500, rasterize=True)\n",
    ")\n"
   ]
  },
  {
   "cell_type": "markdown",
   "id": "5113951c-3b61-491f-83cd-cb3e9670a5e6",
   "metadata": {},
   "source": [
    "### prep for model"
   ]
  },
  {
   "cell_type": "markdown",
   "id": "0985e938-a857-4605-8fe3-f81eb6254d2f",
   "metadata": {},
   "source": [
    "### apply model"
   ]
  },
  {
   "cell_type": "code",
   "execution_count": null,
   "id": "9f177347-7472-4190-9b3c-32c824f756c7",
   "metadata": {},
   "outputs": [],
   "source": [
    "#this function loads the model\n",
    "\n",
    "#def get_model():\n",
    "#    with open('models/rocketmodel.pkl', 'rb') as f:\n",
    "#        model = pickle.load(f)\n",
    "#    return model\n",
    "\n",
    "def get_xgb_model():\n",
    "    model = XGBRegressor()\n",
    "    model.load_model('models/best_xgb_model.json')\n",
    "    return model\n",
    "\n",
    "# The client.submit() function is used to send a task to the Dask distributed scheduler. \n",
    "# When you do fmodel = client.submit(get_xgb_model), \n",
    "# you're asking the scheduler to run the get_xgb_model function in one of the worker processes. This function returns your XGBoost model, and client.submit wraps this into a Future object (fmodel), which is a promise to a result that the scheduler will compute in the future.\n",
    "# This means that fmodel.result() in pred_chunk function will\n",
    "# fetch the XGBoost model from the worker process where it was created, \n",
    "# ensuring that the model can be accessed across all worker processes\n",
    "# when applying the model to each chunk of your data.\n",
    "# Without using client.submit(), your worker processes wouldn't have access\n",
    "# to the XGBoost model, because it wouldn't be in their local memory.\n",
    "\n",
    "\n",
    "#If you pass get_xgb_model directly to xr.apply_ufunc, it will be evaluated once for every chunk. This means you'd be loading your model from disk each time, which is very inefficient, especially if your model is large or you have many chunks.\n",
    "#By first doing fmodel = client.submit(get_xgb_model), you ensure the model is loaded only once per worker and kept in memory. Then pred_chunk can quickly access it for each chunk.\n",
    "#This is a typical pattern when using a model or large data structure with Dask: load it once per worker, then apply it many times. This avoids the overhead of repeatedly loading it.\n",
    "\n",
    "#fmodel = client.submit(get_model)\n",
    "fmodel = client.submit(get_xgb_model)"
   ]
  },
  {
   "cell_type": "code",
   "execution_count": null,
   "id": "047ae11d-3ee4-443c-b693-970143dadcf2",
   "metadata": {},
   "outputs": [],
   "source": [
    "#this function apply a transformaton to each chunk\n",
    "def pred_chunk(arr,fmodel):\n",
    "    #fill nas\n",
    "    arr = arr[:,:,:-1]\n",
    "    xs, ys, zs = arr.shape\n",
    "    arr = rearrange(arr,'x y z -> (x y) z')\n",
    "    arr=np.nan_to_num(arr)\n",
    "    #predict\n",
    "    ypred = fmodel.result().predict(arr)\n",
    "    #clip to 0-100\n",
    "    ypred = np.clip(ypred,0,100)\n",
    "    ypred = rearrange(ypred,'(x y) z -> x y z', x=xs,y=ys)\n",
    "    return ypred"
   ]
  },
  {
   "cell_type": "code",
   "execution_count": null,
   "id": "1194c7d9-bd48-443d-b0e5-453a10f0e0a3",
   "metadata": {},
   "outputs": [],
   "source": [
    "#here we define how to apply the func\n",
    "res = xr.apply_ufunc(pred_chunk, #the function\n",
    "                           ds, #the data\n",
    "                           input_core_dims=[['wavelengths']], #the dims we will lose in the result\n",
    "                           exclude_dims=set(('wavelengths',)), #the dims we will lose in the result\n",
    "                           output_core_dims=[[\"class\"]], #the dims we will gain in the result\n",
    "                           dask=\"parallelized\", #use dask\n",
    "                           output_dtypes=[np.uint8], #dtype of result\n",
    "                           output_sizes={\"class\": 4}, #length of new dim,\n",
    "                           keep_attrs='override',\n",
    "                           kwargs={'fmodel':fmodel}) #addiotnal args to func"
   ]
  },
  {
   "cell_type": "code",
   "execution_count": null,
   "id": "e1cb4b47-013a-43ae-8fe7-1d0ee179a6d7",
   "metadata": {
    "tags": []
   },
   "outputs": [],
   "source": [
    "qmask = mask[:,:,np.newaxis]\n",
    "res = res.where(qmask != 1,-9999)"
   ]
  },
  {
   "cell_type": "code",
   "execution_count": null,
   "id": "ea2178a8-645e-460a-b551-d70f19cc5050",
   "metadata": {},
   "outputs": [],
   "source": [
    "#apply the function\n",
    "#.persist the perform the computation in the background \n",
    "# and keep result as chunked array\n",
    "res = res.persist()"
   ]
  },
  {
   "cell_type": "code",
   "execution_count": null,
   "id": "a69a9c96-3f18-412c-97fe-053146e26717",
   "metadata": {},
   "outputs": [],
   "source": [
    "#a progress bar if das dashboard is not working\n",
    "progress(res)"
   ]
  },
  {
   "cell_type": "code",
   "execution_count": null,
   "id": "0a015014-74d9-4348-bd8c-443257a6fa88",
   "metadata": {},
   "outputs": [],
   "source": [
    "#mask nas\n",
    "#res = res.where(newmask==0,np.nan)\n",
    "\n",
    "#unstack and return to x y\n",
    "#res=res.unstack()"
   ]
  },
  {
   "cell_type": "code",
   "execution_count": null,
   "id": "314b3fbe-5613-499d-905b-52b1082e6d74",
   "metadata": {
    "tags": []
   },
   "outputs": [],
   "source": [
    "for coord in res.coords:\n",
    "    res.coords[coord] = res.coords[coord].load()"
   ]
  },
  {
   "cell_type": "code",
   "execution_count": null,
   "id": "e4b9b96c-1b75-4445-ae3a-b5a3ae9ccb63",
   "metadata": {
    "tags": []
   },
   "outputs": [],
   "source": [
    "res"
   ]
  },
  {
   "cell_type": "code",
   "execution_count": null,
   "id": "5d15a863-3708-4dbf-91f7-f068b0afb792",
   "metadata": {
    "tags": []
   },
   "outputs": [],
   "source": [
    "res = res.load()"
   ]
  },
  {
   "cell_type": "markdown",
   "id": "e4e22560-a2c8-4c08-8e2e-146909a60e65",
   "metadata": {},
   "source": [
    "### quick plot"
   ]
  },
  {
   "cell_type": "code",
   "execution_count": null,
   "id": "65019c99-c683-4c05-86cd-9cd1c9cb62bb",
   "metadata": {
    "tags": []
   },
   "outputs": [],
   "source": [
    "ores = ortho_xr(res, GLT_NODATA_VALUE=0, fill_value = -9999)\n",
    "ores\n"
   ]
  },
  {
   "cell_type": "code",
   "execution_count": null,
   "id": "886b058a-d322-4f80-a35e-c5e3f1900593",
   "metadata": {
    "tags": []
   },
   "outputs": [],
   "source": [
    "ores.isel({'class':3}).hvplot.image(cmap='viridis', clim=(0,100),aspect = 'equal', frame_width=500, rasterize=True)"
   ]
  },
  {
   "cell_type": "code",
   "execution_count": null,
   "id": "2bc7c618-8e87-468c-ad9b-60ce31183dbc",
   "metadata": {
    "tags": []
   },
   "outputs": [],
   "source": [
    "ores"
   ]
  },
  {
   "cell_type": "markdown",
   "id": "f4073543-4ebe-4e58-9487-c2dc5239f676",
   "metadata": {},
   "source": [
    "### Save GeoTIFF"
   ]
  },
  {
   "cell_type": "code",
   "execution_count": null,
   "id": "b73159ce-3624-4af0-affd-871d3272e481",
   "metadata": {},
   "outputs": [],
   "source": [
    "#add crs info\n",
    "res_ras = ores.rio.write_crs('epsg:4326')\n",
    "#read in class names\n",
    "classes = json.load(open(\"data/classes.json\"))\n",
    "classes = list(classes.keys())\n",
    "res_ras.coords[\"class\"] = classes\n",
    "#convert to dataset with one var per class\n",
    "res_ras = res_ras[\"reflectance\"].to_dataset(dim=\"class\") \n",
    "\n",
    "#our values are 0-100 so lets make then int8\n",
    "res_ras = res_ras.fillna(255)\n",
    "res_ras = res_ras.astype(\"int8\")"
   ]
  },
  {
   "cell_type": "code",
   "execution_count": null,
   "id": "1d589494-270f-4d6e-95b0-bfc0be8f8681",
   "metadata": {
    "tags": []
   },
   "outputs": [],
   "source": [
    "res_ras"
   ]
  },
  {
   "cell_type": "code",
   "execution_count": null,
   "id": "7a21fe5d-e68b-4d57-a1aa-b355a1b6e809",
   "metadata": {},
   "outputs": [],
   "source": [
    "#write tif\n",
    "#get infilename\n",
    "filename_with_ext = os.path.basename(f_url[0])\n",
    "res_ras.rio.to_raster(f'data/unmixed/unmixed_{os.path.splitext(filename_with_ext)[0]}.tiff',dtype='int8',)"
   ]
  }
 ],
 "metadata": {
  "kernelspec": {
   "display_name": "Python [conda env:emitpy]",
   "language": "python",
   "name": "conda-env-emitpy-py"
  },
  "language_info": {
   "codemirror_mode": {
    "name": "ipython",
    "version": 3
   },
   "file_extension": ".py",
   "mimetype": "text/x-python",
   "name": "python",
   "nbconvert_exporter": "python",
   "pygments_lexer": "ipython3",
   "version": "3.10.12"
  }
 },
 "nbformat": 4,
 "nbformat_minor": 5
}
